{
 "cells": [
  {
   "cell_type": "code",
   "execution_count": null,
   "metadata": {},
   "outputs": [],
   "source": [
    "import re\n",
    "import os\n",
    "import csv\n",
    "import json\n",
    "import time\n",
    "import httpx\n",
    "import asyncio\n",
    "import requests\n",
    "from urllib import parse\n",
    "from bs4 import BeautifulSoup\n",
    "from library.output_data import exportData"
   ]
  },
  {
   "cell_type": "code",
   "execution_count": null,
   "metadata": {},
   "outputs": [],
   "source": [
    "# header list\n",
    "header_list = [\n",
    "    {'User-Agent': 'Mozilla/5.0 (Macintosh; Intel Mac OS X 10_15_7) AppleWebKit/537.36 (KHTML, like Gecko) Chrome/114.0.0.0'},\n",
    "    {'User-Agent': 'Mozilla/5.0 (Macintosh; Intel Mac OS X 10_15_7) AppleWebKit/537.36 (KHTML, like Gecko) Chrome/114.0.0.0 Safari/537.36'},\n",
    "    {'User-Agent': 'Mozilla/5.0 (Macintosh; Intel Mac OS X 10.15; rv:109.0) Gecko/20100101 Firefox/114.0'},\n",
    "    {'User-Agent': 'Mozilla/5.0 (Macintosh; Intel Mac OS X 10_15_7) AppleWebKit/537.36 (KHTML, like Gecko) Chrome/114.0.0.0 Safari/537.36 OPR/100.0.0.0'},\n",
    "    {\"User-Agent\": \"Mozilla/5.0 (X11; Linux x86_64) AppleWebKit/537.36 (KHTML, like Gecko) Chrome/114.0.0.0 Safari/537.36\"}\n",
    "]\n",
    "\n",
    "active_header = header_list[0]"
   ]
  },
  {
   "attachments": {},
   "cell_type": "markdown",
   "metadata": {},
   "source": [
    "### this is the phase-1 program that will collect thread pages    "
   ]
  },
  {
   "cell_type": "code",
   "execution_count": null,
   "metadata": {},
   "outputs": [],
   "source": [
    "# urls for finding the the pages of any thread pages\n",
    "\n",
    "# url_list = [\n",
    "#     \"https://www.forexfactory.com/thread/145348-need-help-and-explanation-on-interpretation-of-news\",\n",
    "#     \"https://www.forexfactory.com/thread/9809-how-to-become-emotionless\",\n",
    "#     \"https://www.forexfactory.com/thread/1228091-from-learning-through-losses-to-achievement\",\n",
    "#     \"https://www.forexfactory.com/thread/197341-do-you-use-stoploss\"\n",
    "# ]"
   ]
  },
  {
   "cell_type": "code",
   "execution_count": null,
   "metadata": {},
   "outputs": [],
   "source": [
    "# function to get the html\n",
    "\n",
    "async def get_html(client, url, header):\n",
    "    res = await client.get(url, headers=header)\n",
    "    \n",
    "    if res.status_code == 200:\n",
    "        return {\"result\": res.status_code, \"url\": res.url, \"html_string\": res.text}\n",
    "    else:\n",
    "        return {\"result\": res.status_code, \"url\": res.url, \"html_string\": None}"
   ]
  },
  {
   "cell_type": "code",
   "execution_count": null,
   "metadata": {},
   "outputs": [],
   "source": [
    "# the get_url function for collecting all the page urls for a threads\n",
    "\n",
    "async def get_url(header, url_list):\n",
    "    \n",
    "    # url list to send request on ----for test----\n",
    "    # url_list = [\n",
    "    #     \"https://www.forexfactory.com/thread/145348-need-help-and-explanation-on-interpretation-of-news\",\n",
    "    #     \"https://www.forexfactory.com/thread/9809-how-to-become-emotionless\",\n",
    "    #     \"https://www.forexfactory.com/thread/1228091-from-learning-through-losses-to-achievement\",\n",
    "    #     \"https://www.forexfactory.com/thread/197341-do-you-use-stoploss\"\n",
    "    # ]\n",
    "\n",
    "    # getting the list data\n",
    "    html_response_list = []\n",
    "    error_response_list = []\n",
    "    post_url_list = []\n",
    "\n",
    "    async with httpx.AsyncClient(timeout=None) as client:\n",
    "        tasks = []\n",
    "\n",
    "        # appending async task to tasks\n",
    "        for url in url_list:\n",
    "            tasks.append(asyncio.ensure_future(get_html(client, url[\"thread_url\"], header)))\n",
    "\n",
    "        # printing the number of requests\n",
    "        print(f\"total number of request send: {len(url_list)}\")\n",
    "\n",
    "        # waiting to collect all the response\n",
    "        async_response = await asyncio.gather(*tasks)\n",
    "\n",
    "        # getting the thead_list data\n",
    "        thread_url_list = []\n",
    "        error_response_list = []\n",
    "\n",
    "        for response in async_response:\n",
    "            if response['result'] == 200:\n",
    "                html_response = {\n",
    "                    \"html_string\": response[\"html_string\"],\n",
    "                    \"url\": response[\"url\"]\n",
    "                }\n",
    "\n",
    "                html_response_list.append(html_response)\n",
    "            else:\n",
    "                error_response_list.append(response)\n",
    "\n",
    "\n",
    "        # parsing and finding all the thread apge url\n",
    "        for html_response in html_response_list:\n",
    "            html = html_response[\"html_string\"]\n",
    "            url = str(html_response[\"url\"])\n",
    "            parsed_url = parse.urlparse(url)\n",
    "            # print(parsed_url)\n",
    "\n",
    "            soup = BeautifulSoup(html, 'lxml')\n",
    "            page_num_tags = soup.select('a[title=\"Last Page\"]')\n",
    "\n",
    "            if page_num_tags:\n",
    "                for page_tag in page_num_tags:\n",
    "                    if page_tag.string is not None:\n",
    "                        page_num = page_tag.string\n",
    "                        break\n",
    "            else:\n",
    "                page_num = 1\n",
    "\n",
    "            # print(page_num)\n",
    "\n",
    "            if int(page_num) > 1:\n",
    "                query_list = [f\"page={page}\" for page in range(1, int(page_num) + 1)]\n",
    "                # generating all the urls\n",
    "                for custom_query in query_list:\n",
    "                    post_url = parsed_url._replace(query=custom_query).geturl()\n",
    "                    post_url_list.append(post_url)\n",
    "            else:\n",
    "                post_url = url\n",
    "                post_url_list.append(post_url)\n",
    "\n",
    "\n",
    "    return post_url_list\n",
    "\n",
    "                        "
   ]
  },
  {
   "cell_type": "code",
   "execution_count": null,
   "metadata": {},
   "outputs": [],
   "source": [
    "# getting all user input\n",
    "# reading files from local directory\n",
    "# file_path: threads_data/json/interactive_trading.json,\n",
    "# file_path: threads_data/json/commercial_content.json, ----\n",
    "# file_path: threads_data/json/trading_journals.json, ----\n",
    "# file_path: threads_data/json/platform_tech.json,\n",
    "# file_path: threads_data/json/trading_systems.json, ----\n",
    "# file_path: threads_data/json/rookie_talk.json, ----\n",
    "# file_path: threads_data/json/broker_discussion.json, ----\n",
    "# file_path: threads_data/json/trading_discussion.json ----\n",
    "\n",
    "\n",
    "file_dir = input('Enter file directory: ')\n",
    "file_name = input('Enter the file_name: ')"
   ]
  },
  {
   "cell_type": "code",
   "execution_count": null,
   "metadata": {},
   "outputs": [],
   "source": [
    "# getting the complete url list\n",
    "with open(file_dir, mode='r') as json_file:\n",
    "    json_data = json_file.read()\n",
    "    url_list = json.loads(json_data)\n",
    "    print(f\"total number of threads: {len(url_list)}\")\n",
    "    print(url_list[-1])"
   ]
  },
  {
   "cell_type": "code",
   "execution_count": null,
   "metadata": {},
   "outputs": [],
   "source": [
    "## running the concurrent\n",
    "start_time = time.perf_counter()\n",
    "post_url_list = await get_url(active_header, url_list) # running the crawler\n",
    "stop_time = time.perf_counter()\n",
    "\n",
    "print(len(post_url_list))"
   ]
  },
  {
   "cell_type": "code",
   "execution_count": null,
   "metadata": {},
   "outputs": [],
   "source": [
    "save_dir = f\"post_data/{file_name}_post_urls.json\"\n",
    "\n",
    "with open(save_dir, mode='w') as json_file:\n",
    "    json_data = json.dumps(post_url_list)\n",
    "    json_file.write(json_data)\n",
    "    print('Saved the file!')"
   ]
  },
  {
   "cell_type": "code",
   "execution_count": null,
   "metadata": {},
   "outputs": [],
   "source": []
  }
 ],
 "metadata": {
  "kernelspec": {
   "display_name": ".venv",
   "language": "python",
   "name": "python3"
  },
  "language_info": {
   "codemirror_mode": {
    "name": "ipython",
    "version": 3
   },
   "file_extension": ".py",
   "mimetype": "text/x-python",
   "name": "python",
   "nbconvert_exporter": "python",
   "pygments_lexer": "ipython3",
   "version": "3.10.6"
  },
  "orig_nbformat": 4
 },
 "nbformat": 4,
 "nbformat_minor": 2
}
