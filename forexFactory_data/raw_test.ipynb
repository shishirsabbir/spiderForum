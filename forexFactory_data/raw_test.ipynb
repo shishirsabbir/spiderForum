{
 "cells": [
  {
   "cell_type": "code",
   "execution_count": 1,
   "metadata": {},
   "outputs": [],
   "source": [
    "import re\n",
    "import os\n",
    "import csv\n",
    "import json\n",
    "import time\n",
    "import httpx\n",
    "import asyncio\n",
    "import requests\n",
    "from urllib import parse\n",
    "from bs4 import BeautifulSoup\n",
    "from library.output_data import exportData"
   ]
  },
  {
   "cell_type": "code",
   "execution_count": 2,
   "metadata": {},
   "outputs": [],
   "source": [
    "# getting all user input\n",
    "# reading files from local directory\n",
    "# file_path: threads_data/json/interactive_trading.json,\n",
    "# file_path: threads_data/json/commercial_content.json,\n",
    "# file_path: threads_data/json/trading_journals.json,\n",
    "# file_path: threads_data/json/platform_tech.json,\n",
    "# file_path: threads_data/json/trading_systems.json,\n",
    "# file_path: threads_data/json/rookie_talk.json,\n",
    "# file_path: threads_data/json/broker_discussion.json,\n",
    "# file_path: threads_data/json/trading_discussion.json\n",
    "\n",
    "\n",
    "file_dir = input('Enter file directory: ')\n",
    "file_name = input('Enter the file_name: ')"
   ]
  },
  {
   "cell_type": "code",
   "execution_count": 3,
   "metadata": {},
   "outputs": [],
   "source": [
    "# header list\n",
    "header_list = [\n",
    "    {'User-Agent': 'Mozilla/5.0 (Macintosh; Intel Mac OS X 10_15_7) AppleWebKit/537.36 (KHTML, like Gecko) Chrome/114.0.0.0'},\n",
    "    {'User-Agent': 'Mozilla/5.0 (Macintosh; Intel Mac OS X 10_15_7) AppleWebKit/537.36 (KHTML, like Gecko) Chrome/114.0.0.0 Safari/537.36'},\n",
    "    {'User-Agent': 'Mozilla/5.0 (Macintosh; Intel Mac OS X 10.15; rv:109.0) Gecko/20100101 Firefox/114.0'},\n",
    "    {'User-Agent': 'Mozilla/5.0 (Macintosh; Intel Mac OS X 10_15_7) AppleWebKit/537.36 (KHTML, like Gecko) Chrome/114.0.0.0 Safari/537.36 OPR/100.0.0.0'},\n",
    "    {\"User-Agent\": \"Mozilla/5.0 (X11; Linux x86_64) AppleWebKit/537.36 (KHTML, like Gecko) Chrome/114.0.0.0 Safari/537.36\"}\n",
    "]\n",
    "\n",
    "active_header = header_list[0]"
   ]
  },
  {
   "cell_type": "code",
   "execution_count": 4,
   "metadata": {},
   "outputs": [],
   "source": [
    "# get url crawler fast function\n",
    "async def get_url(thread_url, header):\n",
    "    res = httpx.get(thread_url, headers=header)\n",
    "    parsed_url = parse.urlparse(thread_url)\n",
    "\n",
    "    if res.status_code == 200:\n",
    "        soup = BeautifulSoup(res.text, 'lxml')\n",
    "        page_num_tag = soup.select_one('div.forumdisplay__footer li.visible-mv a.last')\n",
    "        page_num = page_num_tag.string\n",
    "        # url_path = page_num_tag['href'] # url path is not needed\n",
    "        query_list = [f\"page={page}\" for page in range(1, int(page_num) + 1)]\n",
    "        url_list = []\n",
    "        # generating all the urls\n",
    "\n",
    "        for custom_query in query_list:\n",
    "            post_url = parsed_url._replace(query=custom_query).geturl()\n",
    "            # print(post_url)\n",
    "            url_list.append(post_url)\n",
    "\n",
    "        return url_list\n",
    "    \n",
    "    else:\n",
    "        print(f\"Bad Response: {res.status_code}\")\n",
    "        print(f\"Got error from page {res.url}\")"
   ]
  },
  {
   "cell_type": "code",
   "execution_count": 5,
   "metadata": {},
   "outputs": [
    {
     "ename": "RuntimeError",
     "evalue": "asyncio.run() cannot be called from a running event loop",
     "output_type": "error",
     "traceback": [
      "\u001b[0;31m---------------------------------------------------------------------------\u001b[0m",
      "\u001b[0;31mRuntimeError\u001b[0m                              Traceback (most recent call last)",
      "Cell \u001b[0;32mIn[5], line 2\u001b[0m\n\u001b[1;32m      1\u001b[0m start_time \u001b[39m=\u001b[39m time\u001b[39m.\u001b[39mperf_counter()\n\u001b[0;32m----> 2\u001b[0m new_html_list \u001b[39m=\u001b[39m asyncio\u001b[39m.\u001b[39;49mrun(get_url(\u001b[39m\"\u001b[39;49m\u001b[39mhttps://www.forexfactory.com/thread/1228091-from-learning-through-losses-to-achievement\u001b[39;49m\u001b[39m\"\u001b[39;49m, active_header)) \u001b[39m# running the crawler\u001b[39;00m\n\u001b[1;32m      3\u001b[0m stop_time \u001b[39m=\u001b[39m time\u001b[39m.\u001b[39mperf_counter()\n",
      "File \u001b[0;32m/Library/Frameworks/Python.framework/Versions/3.11/lib/python3.11/asyncio/runners.py:186\u001b[0m, in \u001b[0;36mrun\u001b[0;34m(main, debug)\u001b[0m\n\u001b[1;32m    161\u001b[0m \u001b[39m\u001b[39m\u001b[39m\"\"\"Execute the coroutine and return the result.\u001b[39;00m\n\u001b[1;32m    162\u001b[0m \n\u001b[1;32m    163\u001b[0m \u001b[39mThis function runs the passed coroutine, taking care of\u001b[39;00m\n\u001b[0;32m   (...)\u001b[0m\n\u001b[1;32m    182\u001b[0m \u001b[39m    asyncio.run(main())\u001b[39;00m\n\u001b[1;32m    183\u001b[0m \u001b[39m\"\"\"\u001b[39;00m\n\u001b[1;32m    184\u001b[0m \u001b[39mif\u001b[39;00m events\u001b[39m.\u001b[39m_get_running_loop() \u001b[39mis\u001b[39;00m \u001b[39mnot\u001b[39;00m \u001b[39mNone\u001b[39;00m:\n\u001b[1;32m    185\u001b[0m     \u001b[39m# fail fast with short traceback\u001b[39;00m\n\u001b[0;32m--> 186\u001b[0m     \u001b[39mraise\u001b[39;00m \u001b[39mRuntimeError\u001b[39;00m(\n\u001b[1;32m    187\u001b[0m         \u001b[39m\"\u001b[39m\u001b[39masyncio.run() cannot be called from a running event loop\u001b[39m\u001b[39m\"\u001b[39m)\n\u001b[1;32m    189\u001b[0m \u001b[39mwith\u001b[39;00m Runner(debug\u001b[39m=\u001b[39mdebug) \u001b[39mas\u001b[39;00m runner:\n\u001b[1;32m    190\u001b[0m     \u001b[39mreturn\u001b[39;00m runner\u001b[39m.\u001b[39mrun(main)\n",
      "\u001b[0;31mRuntimeError\u001b[0m: asyncio.run() cannot be called from a running event loop"
     ]
    }
   ],
   "source": [
    "start_time = time.perf_counter()\n",
    "new_html_list = asyncio.run(get_url(\"https://www.forexfactory.com/thread/1228091-from-learning-through-losses-to-achievement\", active_header)) # running the crawler\n",
    "stop_time = time.perf_counter()"
   ]
  },
  {
   "cell_type": "code",
   "execution_count": null,
   "metadata": {},
   "outputs": [],
   "source": [
    "# get html function\n",
    "async def get_html(client, url, header):\n",
    "        res = await client.get(url, headers=header)\n",
    "        \n",
    "        if res.status_code == 200:\n",
    "            return {\"result\": res.status_code, \"url\": res.url, \"html_string\": res.text}\n",
    "        else:\n",
    "            return {\"result\": res.status_code, \"url\": res.url, \"html_string\": None}"
   ]
  },
  {
   "cell_type": "code",
   "execution_count": null,
   "metadata": {},
   "outputs": [],
   "source": [
    "# running the main spider in concurrent mode\n",
    "async def fast_spider(header, thread_url):\n",
    "    async with httpx.AsyncClient(timeout=None) as client:\n",
    "        tasks = []\n",
    "\n",
    "        # generating the url_list\n",
    "        url_list = await get_url(thread_url, header)\n",
    "\n",
    "        for url in url_list:\n",
    "            tasks.append(asyncio.ensure_future(get_html(client, url, header)))\n",
    "\n",
    "        # printing the number of requests\n",
    "        print(f\"total number of request send: {len(url_list)}\")\n",
    "\n",
    "        # waiting to collect all the response\n",
    "        async_response = await asyncio.gather(*tasks)\n",
    "\n",
    "        # getting the list data\n",
    "        html_list = []\n",
    "        error_response_list = []\n",
    "\n",
    "        for response in async_response:\n",
    "            if response['result'] == 200:\n",
    "                html_list.append(response['html_string'])\n",
    "            else:\n",
    "                error_response_list.append(response)\n",
    "\n",
    "        \n",
    "        print(f\"total html_string collected: {len(html_list)}\")\n",
    "        return html_list"
   ]
  },
  {
   "cell_type": "code",
   "execution_count": null,
   "metadata": {},
   "outputs": [],
   "source": [
    "# getting the complete url list\n",
    "with open(file_dir, mode='r') as json_file:\n",
    "    json_data = json_file.read()\n",
    "    url_list = json.loads(json_data)\n",
    "    print(f\"total number of threads: {len(url_list)}\")"
   ]
  },
  {
   "cell_type": "code",
   "execution_count": null,
   "metadata": {},
   "outputs": [],
   "source": [
    "start_time = time.perf_counter()\n",
    "new_html_list = asyncio.run(fast_spider(active_header, \"https://www.forexfactory.com/thread/1156787-price-action-intradayscalps-only\")) # running the crawler\n",
    "stop_time = time.perf_counter()\n",
    "\n",
    "print(f\"total time took: {stop_time - start_time}\")\n",
    "print(f\"post found: {len(new_html_list)}\")"
   ]
  },
  {
   "cell_type": "code",
   "execution_count": null,
   "metadata": {},
   "outputs": [],
   "source": [
    "# old html_list\n",
    "main_html_list = []\n",
    "\n",
    "\n",
    "for url in url_list:\n",
    "    start_time = time.perf_counter()\n",
    "    new_html_list = asyncio.run(fast_spider(active_header, url)) # running the crawler\n",
    "    stop_time = time.perf_counter()\n",
    "\n",
    "    # collection all html and taking them in single list\n",
    "    main_html_list.extend(new_html_list)\n",
    "\n",
    "    print(f\"total time took: {stop_time - start_time}\")\n",
    "    print(f\"post found: {len(new_html_list)}\")"
   ]
  },
  {
   "attachments": {},
   "cell_type": "markdown",
   "metadata": {},
   "source": [
    "### solving the error"
   ]
  },
  {
   "attachments": {},
   "cell_type": "markdown",
   "metadata": {},
   "source": []
  },
  {
   "cell_type": "code",
   "execution_count": 2,
   "metadata": {},
   "outputs": [],
   "source": [
    "def get_data(html, data_list):\n",
    "    soup = BeautifulSoup(html, 'lxml')\n",
    "    page_content = soup.select_one('section.content')\n",
    "\n",
    "    # setting the base url\n",
    "    base_url = \"https://www.forexfactory.com\"\n",
    "\n",
    "    category = page_content.select_one('div.head span[itemprop=\"name\"]').string\n",
    "    topic_name = page_content.select_one('div.showthread__title h1').get_text(strip=True)\n",
    "\n",
    "    posts = page_content.select('div#posts div.showthread')\n",
    "\n",
    "    for post in posts:\n",
    "\n",
    "        # fixing the time scrape selector\n",
    "        date_tag = soup.select_one('div.threadpost-header__controls li.threadpost-header__controllink--nolink')\n",
    "        # print(date_tag)\n",
    "        date_text = date_tag.get_text(strip=True)\n",
    "        pattern = r\"(?:Jan|Feb|Mar|Apr|May|Jun|Jul|Aug|Sep|Oct|Nov|Dec)\\s\\d{1,2}\\,\\s20\\d{2}\"\n",
    "\n",
    "        match = re.search(pattern, date_text)\n",
    "\n",
    "        if match:\n",
    "            date_string = match.group()\n",
    "        else:\n",
    "            print('date find error!')\n",
    "            date_string = None\n",
    "\n",
    "        has_files = post.select_one('div.threadpost-content div.threadpost-content__attachments')\n",
    "        \n",
    "        if has_files:\n",
    "            post_details_tag = post.select_one('div.threadpost-header div.threadpost-header__controls a[title=\"Post Permalink\"]')\n",
    "            post_url = parse.urljoin(base_url, post_details_tag['href'])\n",
    "            post_count = post_details_tag['data-postnum']\n",
    "            \n",
    "            try:\n",
    "                info_text = has_files.select_one('span.info').get_text(strip=True)\n",
    "                download_text = re.search(r\"\\b\\|[0-9\\,]+\\sdownloads\\b\", info_text).group()\n",
    "                downloads = download_text.replace('|', '').replace('downloads', '').replace(',', '').strip()\n",
    "            except:\n",
    "                download_text = \"Not Provided\"\n",
    "                downloads = \"Not Provided\"\n",
    "            \n",
    "            attach_files = has_files.select('div.attachinfo')\n",
    "\n",
    "            for file in attach_files:\n",
    "                file_url = file.a['href']\n",
    "                file_name = file.a.string\n",
    "\n",
    "                data_dict = {\n",
    "                    \"file_name\": file_name,\n",
    "                    \"download_url\": file_url,\n",
    "                    \"downloads\": downloads,\n",
    "                    \"date\": date_string,\n",
    "                    \"topic_name\": topic_name,\n",
    "                    \"category\": category,\n",
    "                    \"post_url\": post_url,\n",
    "                    \"post#\": post_count\n",
    "                }\n",
    "\n",
    "                data_list.append(data_dict)\n",
    "                # print(data_dict)     \n",
    "        else:\n",
    "            continue"
   ]
  },
  {
   "cell_type": "code",
   "execution_count": 3,
   "metadata": {},
   "outputs": [],
   "source": [
    "url = \"https://www.forexfactory.com/thread/post/8981136\""
   ]
  },
  {
   "cell_type": "code",
   "execution_count": 4,
   "metadata": {},
   "outputs": [
    {
     "name": "stdout",
     "output_type": "stream",
     "text": [
      "yes\n"
     ]
    }
   ],
   "source": [
    "res = requests.get(url, headers={'User-Agent': 'Mozilla/5.0 (Macintosh; Intel Mac OS X 10.15; rv:109.0) Gecko/20100101 Firefox/114.0'})\n",
    "\n",
    "if res.status_code == 200:\n",
    "    print(\"yes\")\n",
    "    html = res.text"
   ]
  },
  {
   "cell_type": "code",
   "execution_count": 5,
   "metadata": {},
   "outputs": [],
   "source": [
    "file_data_list = []\n",
    "\n",
    "get_data(html, file_data_list)"
   ]
  },
  {
   "cell_type": "code",
   "execution_count": null,
   "metadata": {},
   "outputs": [],
   "source": [
    "len(file_data_list)"
   ]
  }
 ],
 "metadata": {
  "kernelspec": {
   "display_name": ".venv",
   "language": "python",
   "name": "python3"
  },
  "language_info": {
   "codemirror_mode": {
    "name": "ipython",
    "version": 3
   },
   "file_extension": ".py",
   "mimetype": "text/x-python",
   "name": "python",
   "nbconvert_exporter": "python",
   "pygments_lexer": "ipython3",
   "version": "3.10.6"
  },
  "orig_nbformat": 4
 },
 "nbformat": 4,
 "nbformat_minor": 2
}
