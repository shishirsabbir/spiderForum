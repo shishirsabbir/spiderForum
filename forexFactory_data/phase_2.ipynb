{
 "cells": [
  {
   "cell_type": "code",
   "execution_count": 1,
   "metadata": {},
   "outputs": [],
   "source": [
    "import re\n",
    "import os\n",
    "import csv\n",
    "import json\n",
    "import time\n",
    "import httpx\n",
    "import asyncio\n",
    "import requests\n",
    "from urllib import parse\n",
    "from bs4 import BeautifulSoup\n",
    "from library.output_data import exportData"
   ]
  },
  {
   "cell_type": "code",
   "execution_count": 2,
   "metadata": {},
   "outputs": [],
   "source": [
    "# header list\n",
    "header_list = [\n",
    "    {'User-Agent': 'Mozilla/5.0 (Macintosh; Intel Mac OS X 10_15_7) AppleWebKit/537.36 (KHTML, like Gecko) Chrome/114.0.0.0'},\n",
    "    {'User-Agent': 'Mozilla/5.0 (Macintosh; Intel Mac OS X 10_15_7) AppleWebKit/537.36 (KHTML, like Gecko) Chrome/114.0.0.0 Safari/537.36'},\n",
    "    {'User-Agent': 'Mozilla/5.0 (Macintosh; Intel Mac OS X 10.15; rv:109.0) Gecko/20100101 Firefox/114.0'},\n",
    "    {'User-Agent': 'Mozilla/5.0 (Macintosh; Intel Mac OS X 10_15_7) AppleWebKit/537.36 (KHTML, like Gecko) Chrome/114.0.0.0 Safari/537.36 OPR/100.0.0.0'},\n",
    "    {\"User-Agent\": \"Mozilla/5.0 (X11; Linux x86_64) AppleWebKit/537.36 (KHTML, like Gecko) Chrome/114.0.0.0 Safari/537.36\"}\n",
    "]\n",
    "\n",
    "active_header = header_list[4]"
   ]
  },
  {
   "attachments": {},
   "cell_type": "markdown",
   "metadata": {},
   "source": [
    "### this is the phase-2 program that will collect data from post pages   "
   ]
  },
  {
   "cell_type": "code",
   "execution_count": 3,
   "metadata": {},
   "outputs": [],
   "source": [
    "# function to get the html\n",
    "\n",
    "async def get_html(client, url, header):\n",
    "    res = await client.get(url, headers=header)\n",
    "    \n",
    "    if res.status_code == 200:\n",
    "        return {\"result\": res.status_code, \"url\": res.url, \"html_string\": res.text}\n",
    "    else:\n",
    "        return {\"result\": res.status_code, \"url\": res.url, \"html_string\": None}"
   ]
  },
  {
   "cell_type": "code",
   "execution_count": 4,
   "metadata": {},
   "outputs": [],
   "source": [
    "# function for getting html from all the post page\n",
    "\n",
    "async def get_html_list(header, url_list):\n",
    "    \n",
    "    # getting the list data\n",
    "    html_response_list = []\n",
    "    error_response_list = []\n",
    "\n",
    "    async with httpx.AsyncClient(timeout=None) as client:\n",
    "        tasks = []\n",
    "\n",
    "        # appending async task to tasks\n",
    "        for url in url_list:\n",
    "            tasks.append(asyncio.ensure_future(get_html(client, url, header)))\n",
    "\n",
    "        # printing the number of requests\n",
    "        print(f\"total number of request send: {len(url_list)}\")\n",
    "\n",
    "        # waiting to collect all the response\n",
    "        async_response = await asyncio.gather(*tasks)\n",
    "\n",
    "        for response in async_response:\n",
    "            if response['result'] == 200:\n",
    "                html_response = {\n",
    "                    \"url\": response[\"url\"],\n",
    "                    \"html_string\": response[\"html_string\"]\n",
    "                }\n",
    "\n",
    "                html_response_list.append(html_response)\n",
    "            else:\n",
    "                error_response_list.append(response)\n",
    "\n",
    "\n",
    "\n",
    "    return (html_response_list, error_response_list)"
   ]
  },
  {
   "cell_type": "code",
   "execution_count": 5,
   "metadata": {},
   "outputs": [
    {
     "name": "stdout",
     "output_type": "stream",
     "text": [
      "trading_journals_post_urls.json\n",
      "interactive_trading_post_urls.json\n",
      "rookie_talk_post_urls.json\n",
      "broker_discussion_post_urls.json\n",
      "trading_system_post_urls.json\n",
      "commercial_content_post_urls.json\n",
      "trading_discussion_post_urls.json\n"
     ]
    }
   ],
   "source": [
    "# dir_path = \"post_data/\"\n",
    "# dir_iter = os.scandir(dir_path)\n",
    "\n",
    "# for file in dir_iter:\n",
    "#     print(file.name)"
   ]
  },
  {
   "cell_type": "code",
   "execution_count": null,
   "metadata": {},
   "outputs": [],
   "source": [
    "# trading_journals_post_urls.json\n",
    "# interactive_trading_post_urls.json\n",
    "# rookie_talk_post_urls.json\n",
    "# broker_discussion_post_urls.json\n",
    "# trading_system_post_urls.json\n",
    "# commercial_content_post_urls.json\n",
    "# trading_discussion_post_urls.json\n",
    "\n",
    "# user input for the files and url list\n",
    "\n",
    "file_dir = input('Enter file directory: ')\n",
    "file_name = input('Enter the file_name: ')"
   ]
  },
  {
   "cell_type": "code",
   "execution_count": null,
   "metadata": {},
   "outputs": [],
   "source": [
    "# getting the complete url list\n",
    "with open(\"post_data/rookie_talk_post_urls.json\", mode='r') as json_file:\n",
    "    json_data = json_file.read()\n",
    "    url_list = json.loads(json_data)\n",
    "    print(f\"total number of threads: {len(url_list)}\")\n",
    "    print(url_list[-1])\n",
    "    print(type(url_list))"
   ]
  },
  {
   "cell_type": "code",
   "execution_count": null,
   "metadata": {},
   "outputs": [],
   "source": [
    "# # running the concurrent\n",
    "start_time = time.perf_counter()\n",
    "html_response_list, error_response_list = await get_html_list(active_header, url_list) # running the crawler\n",
    "stop_time = time.perf_counter()\n",
    "\n",
    "print(len(html_response_list))\n",
    "print(len(error_response_list))"
   ]
  },
  {
   "cell_type": "code",
   "execution_count": null,
   "metadata": {},
   "outputs": [],
   "source": [
    "# parser function to find the files from the post pages\n",
    "\n",
    "def get_data(html, data_list, error_list):\n",
    "    soup = BeautifulSoup(html, 'lxml')\n",
    "    page_content = soup.select_one('section.content')\n",
    "\n",
    "    # setting the base url\n",
    "    base_url = \"https://www.forexfactory.com\"\n",
    "\n",
    "    category = page_content.select_one('div.head span[itemprop=\"name\"]').string\n",
    "    topic_name = page_content.select_one('div.showthread__title h1').get_text(strip=True)\n",
    "\n",
    "    posts = page_content.select('div#posts div.showthread')\n",
    "\n",
    "    for post in posts:\n",
    "\n",
    "        # fixing the time scrape selector\n",
    "        date_tag = soup.select_one('div.threadpost-header__controls li.threadpost-header__controllink--nolink')\n",
    "        # print(date_tag)\n",
    "        date_text = date_tag.get_text(strip=True)\n",
    "        # pattern = r\"(?:Jan|Feb|Mar|Apr|May|Jun|Jul|Aug|Sep|Oct|Nov|Dec)\\s\\d{1,2}\\,\\s20\\d{2}\"\n",
    "\n",
    "        # match = re.search(pattern, date_text)\n",
    "\n",
    "        # if match:\n",
    "        #     date_string = match.group()\n",
    "        # else:\n",
    "        #     print('date find error!')\n",
    "        #     date_string = None\n",
    "\n",
    "        has_files = post.select_one('div.threadpost-content div.threadpost-content__attachments')\n",
    "        \n",
    "        if has_files:\n",
    "            post_details_tag = post.select_one('div.threadpost-header div.threadpost-header__controls a[title=\"Post Permalink\"]')\n",
    "            post_url = parse.urljoin(base_url, post_details_tag['href'])\n",
    "            post_count = post_details_tag['data-postnum']\n",
    "            \n",
    "            try:\n",
    "                info_text = has_files.select_one('span.info').get_text(strip=True)\n",
    "                download_text = re.search(r\"\\b\\|[0-9\\,]+\\sdownloads\\b\", info_text).group()\n",
    "                downloads = download_text.replace('|', '').replace('downloads', '').replace(',', '').strip()\n",
    "            except:\n",
    "                download_text = \"Not Provided\"\n",
    "                downloads = \"Not Provided\"\n",
    "                error_list.append(post)\n",
    "            \n",
    "            attach_files = has_files.select('div.attachinfo')\n",
    "\n",
    "            for file in attach_files:\n",
    "                file_url = file.a['href']\n",
    "                file_name = file.a.string\n",
    "\n",
    "                data_dict = {\n",
    "                    \"file_name\": file_name,\n",
    "                    \"download_url\": file_url,\n",
    "                    \"downloads\": downloads,\n",
    "                    \"date\": date_text,\n",
    "                    \"topic_name\": topic_name,\n",
    "                    \"category\": category,\n",
    "                    \"post_url\": post_url,\n",
    "                    \"post#\": post_count\n",
    "                }\n",
    "\n",
    "                data_list.append(data_dict)\n",
    "                # print(data_dict)     \n",
    "        else:\n",
    "            continue"
   ]
  },
  {
   "cell_type": "code",
   "execution_count": null,
   "metadata": {},
   "outputs": [],
   "source": [
    "# running the parser and collecting the data\n",
    "\n",
    "file_data_list = []\n",
    "file_error_list = []\n",
    "\n",
    "for response in html_response_list:\n",
    "    html = response[\"html_string\"]\n",
    "    \n",
    "    # running the parser\n",
    "    get_data(html, file_data_list)\n",
    "\n",
    "print(len(file_data_list))\n",
    "print(len(file_error_list))"
   ]
  }
 ],
 "metadata": {
  "kernelspec": {
   "display_name": ".venv",
   "language": "python",
   "name": "python3"
  },
  "language_info": {
   "codemirror_mode": {
    "name": "ipython",
    "version": 3
   },
   "file_extension": ".py",
   "mimetype": "text/x-python",
   "name": "python",
   "nbconvert_exporter": "python",
   "pygments_lexer": "ipython3",
   "version": "3.10.6"
  },
  "orig_nbformat": 4
 },
 "nbformat": 4,
 "nbformat_minor": 2
}
