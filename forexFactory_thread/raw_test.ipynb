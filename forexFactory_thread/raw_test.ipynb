{
 "cells": [
  {
   "cell_type": "code",
   "execution_count": 7,
   "metadata": {},
   "outputs": [],
   "source": [
    "import re\n",
    "import os\n",
    "import csv\n",
    "import json\n",
    "import time\n",
    "import httpx\n",
    "import asyncio\n",
    "import requests\n",
    "from urllib import parse\n",
    "from bs4 import BeautifulSoup\n",
    "from library.output_data import exportData"
   ]
  },
  {
   "cell_type": "code",
   "execution_count": 3,
   "metadata": {},
   "outputs": [],
   "source": [
    "# header list\n",
    "header_list = [\n",
    "    {'User-Agent': 'Mozilla/5.0 (Macintosh; Intel Mac OS X 10_15_7) AppleWebKit/537.36 (KHTML, like Gecko) Chrome/114.0.0.0'},\n",
    "    {'User-Agent': 'Mozilla/5.0 (Macintosh; Intel Mac OS X 10_15_7) AppleWebKit/537.36 (KHTML, like Gecko) Chrome/114.0.0.0 Safari/537.36'},\n",
    "    {'User-Agent': 'Mozilla/5.0 (Macintosh; Intel Mac OS X 10.15; rv:109.0) Gecko/20100101 Firefox/114.0'},\n",
    "    {'User-Agent': 'Mozilla/5.0 (Macintosh; Intel Mac OS X 10_15_7) AppleWebKit/537.36 (KHTML, like Gecko) Chrome/114.0.0.0 Safari/537.36 OPR/100.0.0.0'},\n",
    "    {\"User-Agent\": \"Mozilla/5.0 (X11; Linux x86_64) AppleWebKit/537.36 (KHTML, like Gecko) Chrome/114.0.0.0 Safari/537.36\"}\n",
    "]\n",
    "\n",
    "active_header = header_list[0]"
   ]
  },
  {
   "cell_type": "code",
   "execution_count": 4,
   "metadata": {},
   "outputs": [],
   "source": [
    "# div.head--fixedbottom li.threadnav--footer a.last"
   ]
  },
  {
   "cell_type": "code",
   "execution_count": 5,
   "metadata": {},
   "outputs": [],
   "source": [
    "test_url = \"https://www.forexfactory.com/thread/1156787-price-action-intradayscalps-only\""
   ]
  },
  {
   "cell_type": "code",
   "execution_count": 9,
   "metadata": {},
   "outputs": [],
   "source": [
    "res = httpx.get(test_url, headers=active_header)\n",
    "\n",
    "if res.status_code == 200:\n",
    "    html = res.text\n",
    "else:\n",
    "    print(f\"Bad Response: {res.status_code}\")"
   ]
  },
  {
   "cell_type": "code",
   "execution_count": 15,
   "metadata": {},
   "outputs": [
    {
     "name": "stdout",
     "output_type": "stream",
     "text": [
      "16\n"
     ]
    }
   ],
   "source": [
    "soup = BeautifulSoup(html, 'lxml')\n",
    "page_num = soup.select_one('div.head--fixedbottom li.threadnav--footer a.last').string\n",
    "print(page_num)"
   ]
  },
  {
   "cell_type": "code",
   "execution_count": 16,
   "metadata": {},
   "outputs": [
    {
     "name": "stdout",
     "output_type": "stream",
     "text": [
      "ParseResult(scheme='https', netloc='www.forexfactory.com', path='/thread/1156787-price-action-intradayscalps-only', params='', query='', fragment='')\n"
     ]
    }
   ],
   "source": [
    "parsed_url = parse.urlparse(test_url)\n",
    "print(parsed_url)"
   ]
  },
  {
   "cell_type": "code",
   "execution_count": 17,
   "metadata": {},
   "outputs": [],
   "source": [
    "# url_path = page_num_tag['href'] # url path is not needed\n",
    "query_list = [f\"page={page}\" for page in range(1, int(page_num) + 1)]\n",
    "url_list = []\n",
    "# generating all the urls\n",
    "\n",
    "for custom_query in query_list:\n",
    "    post_url = parsed_url._replace(query=custom_query).geturl()\n",
    "    # print(thread_page_url)\n",
    "    url_list.append(post_url)"
   ]
  },
  {
   "cell_type": "code",
   "execution_count": 18,
   "metadata": {},
   "outputs": [
    {
     "data": {
      "text/plain": [
       "['https://www.forexfactory.com/thread/1156787-price-action-intradayscalps-only?page=1',\n",
       " 'https://www.forexfactory.com/thread/1156787-price-action-intradayscalps-only?page=2',\n",
       " 'https://www.forexfactory.com/thread/1156787-price-action-intradayscalps-only?page=3',\n",
       " 'https://www.forexfactory.com/thread/1156787-price-action-intradayscalps-only?page=4',\n",
       " 'https://www.forexfactory.com/thread/1156787-price-action-intradayscalps-only?page=5',\n",
       " 'https://www.forexfactory.com/thread/1156787-price-action-intradayscalps-only?page=6',\n",
       " 'https://www.forexfactory.com/thread/1156787-price-action-intradayscalps-only?page=7',\n",
       " 'https://www.forexfactory.com/thread/1156787-price-action-intradayscalps-only?page=8',\n",
       " 'https://www.forexfactory.com/thread/1156787-price-action-intradayscalps-only?page=9',\n",
       " 'https://www.forexfactory.com/thread/1156787-price-action-intradayscalps-only?page=10',\n",
       " 'https://www.forexfactory.com/thread/1156787-price-action-intradayscalps-only?page=11',\n",
       " 'https://www.forexfactory.com/thread/1156787-price-action-intradayscalps-only?page=12',\n",
       " 'https://www.forexfactory.com/thread/1156787-price-action-intradayscalps-only?page=13',\n",
       " 'https://www.forexfactory.com/thread/1156787-price-action-intradayscalps-only?page=14',\n",
       " 'https://www.forexfactory.com/thread/1156787-price-action-intradayscalps-only?page=15',\n",
       " 'https://www.forexfactory.com/thread/1156787-price-action-intradayscalps-only?page=16']"
      ]
     },
     "execution_count": 18,
     "metadata": {},
     "output_type": "execute_result"
    }
   ],
   "source": [
    "url_list"
   ]
  },
  {
   "cell_type": "code",
   "execution_count": null,
   "metadata": {},
   "outputs": [],
   "source": [
    "# get url crawler fast function\n",
    "async def get_url(thread_url, header):\n",
    "    res = httpx.get(thread_url, headers=header)\n",
    "    parsed_url = parse.urlparse(thread_url)\n",
    "\n",
    "    if res.status_code == 200:\n",
    "        soup = BeautifulSoup(res.text, 'lxml')\n",
    "        page_num_tag = soup.select_one('div.forumdisplay__footer li.visible-mv a.last')\n",
    "        page_num = page_num_tag.string\n",
    "        # url_path = page_num_tag['href'] # url path is not needed\n",
    "        query_list = [f\"page={page}\" for page in range(1, int(page_num) + 1)]\n",
    "        url_list = []\n",
    "        # generating all the urls\n",
    "\n",
    "        for custom_query in query_list:\n",
    "            post_url = parsed_url._replace(query=custom_query).geturl()\n",
    "            # print(post_url)\n",
    "            url_list.append(post_url)\n",
    "\n",
    "        return url_list\n",
    "    \n",
    "    else:\n",
    "        print(f\"Bad Response: {res.status_code}\")\n",
    "        print(f\"Got error from page {res.url}\")"
   ]
  },
  {
   "cell_type": "code",
   "execution_count": 19,
   "metadata": {},
   "outputs": [],
   "source": [
    "# reading files from local directory\n",
    "file_list = []\n",
    "\n",
    "data_dir = 'data/json/'\n",
    "with os.scandir(data_dir) as entries:\n",
    "    for json_file in entries:\n",
    "        file_list.append(json_file.path)"
   ]
  },
  {
   "cell_type": "code",
   "execution_count": 20,
   "metadata": {},
   "outputs": [
    {
     "data": {
      "text/plain": [
       "['data/json/commercial_content.json',\n",
       " 'data/json/trading_journals.json',\n",
       " 'data/json/platform_tech.json',\n",
       " 'data/json/trading_systems.json',\n",
       " 'data/json/rookie_talk.json',\n",
       " 'data/json/broker_discussion.json',\n",
       " 'data/json/interactive_trading.json',\n",
       " 'data/json/trading_discussion.json']"
      ]
     },
     "execution_count": 20,
     "metadata": {},
     "output_type": "execute_result"
    }
   ],
   "source": [
    "file_list"
   ]
  },
  {
   "cell_type": "code",
   "execution_count": null,
   "metadata": {},
   "outputs": [],
   "source": [
    "main_html_list = []\n",
    "\n",
    "new_html_list = [\n",
    "    'data/json/commercial_content.json',\n",
    "    'data/json/trading_journals.json',\n",
    "    'data/json/platform_tech.json',\n",
    "    'data/json/trading_systems.json',\n",
    "    'data/json/rookie_talk.json',\n",
    "    'data/json/broker_discussion.json',\n",
    "    'data/json/interactive_trading.json',\n",
    "    'data/json/trading_discussion.json'\n",
    "]\n",
    "\n",
    "main_html_list.extend(new_html_list)\n",
    "\n",
    "print(main_html_list)"
   ]
  }
 ],
 "metadata": {
  "kernelspec": {
   "display_name": ".venv",
   "language": "python",
   "name": "python3"
  },
  "language_info": {
   "codemirror_mode": {
    "name": "ipython",
    "version": 3
   },
   "file_extension": ".py",
   "mimetype": "text/x-python",
   "name": "python",
   "nbconvert_exporter": "python",
   "pygments_lexer": "ipython3",
   "version": "3.11.3"
  },
  "orig_nbformat": 4
 },
 "nbformat": 4,
 "nbformat_minor": 2
}
