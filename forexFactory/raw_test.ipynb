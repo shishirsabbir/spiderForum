{
 "cells": [
  {
   "cell_type": "code",
   "execution_count": 1,
   "metadata": {},
   "outputs": [
    {
     "name": "stdout",
     "output_type": "stream",
     "text": [
      "['https://www.forexfactory.com/forum/137-interactive-trading?sort=lastpost&order=desc&page=1', 'https://www.forexfactory.com/forum/137-interactive-trading?sort=lastpost&order=desc&page=2', 'https://www.forexfactory.com/forum/137-interactive-trading?sort=lastpost&order=desc&page=3', 'https://www.forexfactory.com/forum/137-interactive-trading?sort=lastpost&order=desc&page=4', 'https://www.forexfactory.com/forum/137-interactive-trading?sort=lastpost&order=desc&page=5', 'https://www.forexfactory.com/forum/137-interactive-trading?sort=lastpost&order=desc&page=6', 'https://www.forexfactory.com/forum/137-interactive-trading?sort=lastpost&order=desc&page=7', 'https://www.forexfactory.com/forum/137-interactive-trading?sort=lastpost&order=desc&page=8', 'https://www.forexfactory.com/forum/137-interactive-trading?sort=lastpost&order=desc&page=9', 'https://www.forexfactory.com/forum/137-interactive-trading?sort=lastpost&order=desc&page=10', 'https://www.forexfactory.com/forum/137-interactive-trading?sort=lastpost&order=desc&page=11', 'https://www.forexfactory.com/forum/137-interactive-trading?sort=lastpost&order=desc&page=12', 'https://www.forexfactory.com/forum/137-interactive-trading?sort=lastpost&order=desc&page=13', 'https://www.forexfactory.com/forum/137-interactive-trading?sort=lastpost&order=desc&page=14', 'https://www.forexfactory.com/forum/137-interactive-trading?sort=lastpost&order=desc&page=15', 'https://www.forexfactory.com/forum/137-interactive-trading?sort=lastpost&order=desc&page=16', 'https://www.forexfactory.com/forum/137-interactive-trading?sort=lastpost&order=desc&page=17', 'https://www.forexfactory.com/forum/137-interactive-trading?sort=lastpost&order=desc&page=18', 'https://www.forexfactory.com/forum/137-interactive-trading?sort=lastpost&order=desc&page=19', 'https://www.forexfactory.com/forum/137-interactive-trading?sort=lastpost&order=desc&page=20', 'https://www.forexfactory.com/forum/137-interactive-trading?sort=lastpost&order=desc&page=21', 'https://www.forexfactory.com/forum/137-interactive-trading?sort=lastpost&order=desc&page=22', 'https://www.forexfactory.com/forum/137-interactive-trading?sort=lastpost&order=desc&page=23', 'https://www.forexfactory.com/forum/137-interactive-trading?sort=lastpost&order=desc&page=24', 'https://www.forexfactory.com/forum/137-interactive-trading?sort=lastpost&order=desc&page=25', 'https://www.forexfactory.com/forum/137-interactive-trading?sort=lastpost&order=desc&page=26', 'https://www.forexfactory.com/forum/137-interactive-trading?sort=lastpost&order=desc&page=27', 'https://www.forexfactory.com/forum/137-interactive-trading?sort=lastpost&order=desc&page=28', 'https://www.forexfactory.com/forum/137-interactive-trading?sort=lastpost&order=desc&page=29', 'https://www.forexfactory.com/forum/137-interactive-trading?sort=lastpost&order=desc&page=30', 'https://www.forexfactory.com/forum/137-interactive-trading?sort=lastpost&order=desc&page=31', 'https://www.forexfactory.com/forum/137-interactive-trading?sort=lastpost&order=desc&page=32', 'https://www.forexfactory.com/forum/137-interactive-trading?sort=lastpost&order=desc&page=33', 'https://www.forexfactory.com/forum/137-interactive-trading?sort=lastpost&order=desc&page=34', 'https://www.forexfactory.com/forum/137-interactive-trading?sort=lastpost&order=desc&page=35', 'https://www.forexfactory.com/forum/137-interactive-trading?sort=lastpost&order=desc&page=36', 'https://www.forexfactory.com/forum/137-interactive-trading?sort=lastpost&order=desc&page=37', 'https://www.forexfactory.com/forum/137-interactive-trading?sort=lastpost&order=desc&page=38', 'https://www.forexfactory.com/forum/137-interactive-trading?sort=lastpost&order=desc&page=39', 'https://www.forexfactory.com/forum/137-interactive-trading?sort=lastpost&order=desc&page=40', 'https://www.forexfactory.com/forum/137-interactive-trading?sort=lastpost&order=desc&page=41', 'https://www.forexfactory.com/forum/137-interactive-trading?sort=lastpost&order=desc&page=42', 'https://www.forexfactory.com/forum/137-interactive-trading?sort=lastpost&order=desc&page=43', 'https://www.forexfactory.com/forum/137-interactive-trading?sort=lastpost&order=desc&page=44', 'https://www.forexfactory.com/forum/137-interactive-trading?sort=lastpost&order=desc&page=45', 'https://www.forexfactory.com/forum/137-interactive-trading?sort=lastpost&order=desc&page=46', 'https://www.forexfactory.com/forum/137-interactive-trading?sort=lastpost&order=desc&page=47', 'https://www.forexfactory.com/forum/137-interactive-trading?sort=lastpost&order=desc&page=48', 'https://www.forexfactory.com/forum/137-interactive-trading?sort=lastpost&order=desc&page=49', 'https://www.forexfactory.com/forum/137-interactive-trading?sort=lastpost&order=desc&page=50', 'https://www.forexfactory.com/forum/137-interactive-trading?sort=lastpost&order=desc&page=51', 'https://www.forexfactory.com/forum/137-interactive-trading?sort=lastpost&order=desc&page=52', 'https://www.forexfactory.com/forum/137-interactive-trading?sort=lastpost&order=desc&page=53', 'https://www.forexfactory.com/forum/137-interactive-trading?sort=lastpost&order=desc&page=54', 'https://www.forexfactory.com/forum/137-interactive-trading?sort=lastpost&order=desc&page=55', 'https://www.forexfactory.com/forum/137-interactive-trading?sort=lastpost&order=desc&page=56', 'https://www.forexfactory.com/forum/137-interactive-trading?sort=lastpost&order=desc&page=57', 'https://www.forexfactory.com/forum/137-interactive-trading?sort=lastpost&order=desc&page=58', 'https://www.forexfactory.com/forum/137-interactive-trading?sort=lastpost&order=desc&page=59', 'https://www.forexfactory.com/forum/137-interactive-trading?sort=lastpost&order=desc&page=60', 'https://www.forexfactory.com/forum/137-interactive-trading?sort=lastpost&order=desc&page=61', 'https://www.forexfactory.com/forum/137-interactive-trading?sort=lastpost&order=desc&page=62', 'https://www.forexfactory.com/forum/137-interactive-trading?sort=lastpost&order=desc&page=63', 'https://www.forexfactory.com/forum/137-interactive-trading?sort=lastpost&order=desc&page=64', 'https://www.forexfactory.com/forum/137-interactive-trading?sort=lastpost&order=desc&page=65', 'https://www.forexfactory.com/forum/137-interactive-trading?sort=lastpost&order=desc&page=66', 'https://www.forexfactory.com/forum/137-interactive-trading?sort=lastpost&order=desc&page=67', 'https://www.forexfactory.com/forum/137-interactive-trading?sort=lastpost&order=desc&page=68', 'https://www.forexfactory.com/forum/137-interactive-trading?sort=lastpost&order=desc&page=69', 'https://www.forexfactory.com/forum/137-interactive-trading?sort=lastpost&order=desc&page=70', 'https://www.forexfactory.com/forum/137-interactive-trading?sort=lastpost&order=desc&page=71', 'https://www.forexfactory.com/forum/137-interactive-trading?sort=lastpost&order=desc&page=72', 'https://www.forexfactory.com/forum/137-interactive-trading?sort=lastpost&order=desc&page=73', 'https://www.forexfactory.com/forum/137-interactive-trading?sort=lastpost&order=desc&page=74', 'https://www.forexfactory.com/forum/137-interactive-trading?sort=lastpost&order=desc&page=75', 'https://www.forexfactory.com/forum/137-interactive-trading?sort=lastpost&order=desc&page=76', 'https://www.forexfactory.com/forum/137-interactive-trading?sort=lastpost&order=desc&page=77', 'https://www.forexfactory.com/forum/137-interactive-trading?sort=lastpost&order=desc&page=78', 'https://www.forexfactory.com/forum/137-interactive-trading?sort=lastpost&order=desc&page=79', 'https://www.forexfactory.com/forum/137-interactive-trading?sort=lastpost&order=desc&page=80', 'https://www.forexfactory.com/forum/137-interactive-trading?sort=lastpost&order=desc&page=81', 'https://www.forexfactory.com/forum/137-interactive-trading?sort=lastpost&order=desc&page=82', 'https://www.forexfactory.com/forum/137-interactive-trading?sort=lastpost&order=desc&page=83', 'https://www.forexfactory.com/forum/137-interactive-trading?sort=lastpost&order=desc&page=84']\n"
     ]
    }
   ],
   "source": [
    "# insert the range by yourself\n",
    "page_start = 1\n",
    "page_stop = 85\n",
    "\n",
    "# generating the url_list\n",
    "url_list = [f\"https://www.forexfactory.com/forum/137-interactive-trading?sort=lastpost&order=desc&page={page}\" for page in range(page_start, page_stop)]\n",
    "\n",
    "print(url_list)"
   ]
  },
  {
   "cell_type": "code",
   "execution_count": null,
   "metadata": {},
   "outputs": [],
   "source": []
  }
 ],
 "metadata": {
  "kernelspec": {
   "display_name": ".venv",
   "language": "python",
   "name": "python3"
  },
  "language_info": {
   "codemirror_mode": {
    "name": "ipython",
    "version": 3
   },
   "file_extension": ".py",
   "mimetype": "text/x-python",
   "name": "python",
   "nbconvert_exporter": "python",
   "pygments_lexer": "ipython3",
   "version": "3.11.3"
  },
  "orig_nbformat": 4
 },
 "nbformat": 4,
 "nbformat_minor": 2
}
