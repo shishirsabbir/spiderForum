{
 "cells": [
  {
   "cell_type": "code",
   "execution_count": 1,
   "metadata": {},
   "outputs": [],
   "source": [
    "import re\n",
    "import os\n",
    "import csv\n",
    "import json\n",
    "import requests\n",
    "from urllib import parse\n",
    "from bs4 import BeautifulSoup\n",
    "from library.output_data import exportData\n",
    "from library.automate import By, Keys, EC, Action, wait_for, genBrowser, driverWait"
   ]
  },
  {
   "cell_type": "code",
   "execution_count": 2,
   "metadata": {},
   "outputs": [],
   "source": [
    "# custom header list\n",
    "\n",
    "header_list = [\n",
    "    {'User-Agent': 'Mozilla/5.0 (Macintosh; Intel Mac OS X 10_15_7) AppleWebKit/537.36 (KHTML, like Gecko) Chrome/114.0.0.0'},\n",
    "    {'User-Agent': 'Mozilla/5.0 (Macintosh; Intel Mac OS X 10_15_7) AppleWebKit/537.36 (KHTML, like Gecko) Chrome/114.0.0.0 Safari/537.36'},\n",
    "    {'User-Agent': 'Mozilla/5.0 (Macintosh; Intel Mac OS X 10.15; rv:109.0) Gecko/20100101 Firefox/114.0'},\n",
    "    {'User-Agent': 'Mozilla/5.0 (Macintosh; Intel Mac OS X 10_15_7) AppleWebKit/537.36 (KHTML, like Gecko) Chrome/114.0.0.0 Safari/537.36 OPR/100.0.0.0'},\n",
    "    {\"User-Agent\": \"Mozilla/5.0 (X11; Linux x86_64) AppleWebKit/537.36 (KHTML, like Gecko) Chrome/114.0.0.0 Safari/537.36\"}\n",
    "]"
   ]
  },
  {
   "attachments": {},
   "cell_type": "markdown",
   "metadata": {},
   "source": [
    "### Writing the straight forward code"
   ]
  },
  {
   "cell_type": "code",
   "execution_count": 3,
   "metadata": {},
   "outputs": [],
   "source": [
    "# one session and base url\n",
    "\n",
    "base_url = \"https://www.forexfactory.com\"\n",
    "session = requests.Session()"
   ]
  },
  {
   "cell_type": "code",
   "execution_count": 4,
   "metadata": {},
   "outputs": [],
   "source": [
    "# all the lists that will store the scraped data\n",
    "\n",
    "thread_url_list = []"
   ]
  },
  {
   "cell_type": "code",
   "execution_count": 5,
   "metadata": {},
   "outputs": [],
   "source": [
    "# user input forum category url\n",
    "\n",
    "category_url = input(\"Enter Category Url: \")\n",
    "\n",
    "res = session.get(category_url, headers=header_list[0])\n",
    "\n",
    "if res.status_code == 200:\n",
    "    soup = BeautifulSoup(res.text, 'lxml')\n",
    "    page_num_tag = soup.select_one('div.forumdisplay__footer li.visible-mv a.last')\n",
    "    page_num = page_num_tag.string\n",
    "    url_path = page_num_tag['href']\n",
    "    thread_page_url = parse.urljoin(base_url, url_path)\n",
    "    \n",
    "else:\n",
    "    print(f\"Bad Response of Forum Pages: {res.status_code}\")"
   ]
  },
  {
   "cell_type": "code",
   "execution_count": 6,
   "metadata": {},
   "outputs": [
    {
     "name": "stdout",
     "output_type": "stream",
     "text": [
      "total number of pages: 15\n"
     ]
    }
   ],
   "source": [
    "forum_page_num = int(page_num) + 1\n",
    "forum_pages = [page for page in range(1, forum_page_num)]\n",
    "print(f\"total number of pages: {len(forum_pages)}\")\n",
    "\n",
    "for page in forum_pages:\n",
    "    url_obj = parse.urlparse(thread_page_url)\n",
    "    url_dict = url_obj._asdict()\n",
    "    base_url = base_url = \"https://www.forexfactory.com\"\n",
    "    path = url_dict['path']\n",
    "\n",
    "    new_url = base_url + path + f\"?sort=lastpost&order=desc&page={page}\"\n",
    "    \n",
    "    res = session.get(new_url, headers=header_list[0])\n",
    "\n",
    "    if res.status_code == 200:\n",
    "        soup = BeautifulSoup(res.text, 'lxml')\n",
    "\n",
    "        thread_tags = soup.select('table#threadslist tr.threadlist__row div.threadlist__title-wrapper')\n",
    "\n",
    "        for thread in thread_tags:\n",
    "            thread_name = thread.get_text(strip=True)\n",
    "            thread_url = thread.a['href']\n",
    "\n",
    "            thread_dict = {\n",
    "                \"thread_name\": thread_name,\n",
    "                \"thread_url\": thread_url\n",
    "            }\n",
    "\n",
    "            thread_url_list.append(thread_dict)\n",
    "    else:\n",
    "        print(f\"Bad Response: {res.status_code}\")"
   ]
  },
  {
   "cell_type": "code",
   "execution_count": null,
   "metadata": {},
   "outputs": [],
   "source": [
    "# printing the number of thread found in the category\n",
    "\n",
    "print(f\"threads found: {len(thread_url_list)}\")"
   ]
  },
  {
   "cell_type": "code",
   "execution_count": null,
   "metadata": {},
   "outputs": [],
   "source": [
    "# this function is for category page url and page number in each category\n",
    "\n",
    "# def get_category_pages(url):\n",
    "#     base_url = \"https://www.forexfactory.com\"\n",
    "\n",
    "#     session = requests.Session()\n",
    "\n",
    "#     res = session.get(url, headers=header_list[0])\n",
    "\n",
    "#     if res.status_code == 200:\n",
    "#         soup = BeautifulSoup(res.text, 'lxml')\n",
    "#         page_num_tag = soup.select_one('div.forumdisplay__footer li.visible-mv a.last')\n",
    "#         page_num = page_num_tag.string\n",
    "#         url_path = page_num_tag['href']\n",
    "#         actual_url = parse.urljoin(base_url, url_path)\n",
    "\n",
    "#         return (page_num, actual_url)\n",
    "        \n",
    "#     else:\n",
    "#         print(f\"Bad Response of Forum Pages: {res.status_code}\")\n",
    "#         return None"
   ]
  },
  {
   "cell_type": "code",
   "execution_count": null,
   "metadata": {},
   "outputs": [],
   "source": [
    "# get threads name and url\n",
    "\n",
    "# def get_threads(pages, thread_page_url):\n",
    "#     session = requests.Session()\n",
    "#     thread_url_list = []\n",
    "\n",
    "#     for page in pages:\n",
    "#         url_obj = parse.urlparse(thread_page_url)\n",
    "#         url_dict = url_obj._asdict()\n",
    "#         base_url = base_url = \"https://www.forexfactory.com\"\n",
    "#         path = url_dict['path']\n",
    "\n",
    "#         new_url = base_url + path + f\"?sort=lastpost&order=desc&page={page}\"\n",
    "        \n",
    "#         res = session.get(new_url, headers=header_list[0])\n",
    "\n",
    "#         if res.status_code == 200:\n",
    "#             soup = BeautifulSoup(res.text, 'lxml')\n",
    "\n",
    "#             thread_tags = soup.select('table#threadslist tr.threadlist__row div.threadlist__title-wrapper')\n",
    "\n",
    "#             for thread in thread_tags:\n",
    "#                 thread_name = thread.get_text(strip=True)\n",
    "#                 thread_url = thread.a['href']\n",
    "\n",
    "#                 thread_dict = {\n",
    "#                     \"thread_name\": thread_name,\n",
    "#                     \"thread_url\": thread_url\n",
    "#                 }\n",
    "\n",
    "#                 thread_url_list.append(thread_dict)\n",
    "#         else:\n",
    "#             print(f\"Bad Response: {res.status_code}\")\n",
    "\n",
    "#     return thread_url_list"
   ]
  },
  {
   "cell_type": "code",
   "execution_count": null,
   "metadata": {},
   "outputs": [],
   "source": [
    "# def crawler(category_url):\n",
    "#     pages, thread_page_url = get_category_pages(category_url)\n",
    "#     forum_page_num = int(pages) + 1\n",
    "#     forum_pages = [page for page in range(1, forum_page_num)]\n",
    "\n",
    "#     print(f\"total number of pages: {len(forum_pages)}\")\n",
    "\n",
    "#     threads_url_list = get_threads(forum_pages, thread_page_url)\n",
    "#     print(f\"threads found: {len(threads_url_list)}\")\n",
    "\n",
    "#     return threads_url_list"
   ]
  },
  {
   "cell_type": "code",
   "execution_count": null,
   "metadata": {},
   "outputs": [],
   "source": [
    "# running the crawler\n",
    "# category_url = input(\"Enter Category Url: \")\n",
    "# thread_url_list = crawler(category_url)"
   ]
  },
  {
   "cell_type": "code",
   "execution_count": 2,
   "metadata": {},
   "outputs": [
    {
     "name": "stdout",
     "output_type": "stream",
     "text": [
      "https://www.forexfactory.com/forum/137-interactive-trading?sort=lastpost&order=desc&page=1\n",
      "https://www.forexfactory.com/forum/137-interactive-trading?sort=lastpost&order=desc&page=2\n",
      "https://www.forexfactory.com/forum/137-interactive-trading?sort=lastpost&order=desc&page=3\n",
      "https://www.forexfactory.com/forum/137-interactive-trading?sort=lastpost&order=desc&page=4\n",
      "https://www.forexfactory.com/forum/137-interactive-trading?sort=lastpost&order=desc&page=5\n"
     ]
    }
   ],
   "source": [
    "for page in range(1, 6):\n",
    "    page_url = f\"https://www.forexfactory.com/forum/137-interactive-trading?sort=lastpost&order=desc&page={page}\"\n",
    "    print(page_url)"
   ]
  },
  {
   "cell_type": "code",
   "execution_count": 3,
   "metadata": {},
   "outputs": [
    {
     "name": "stdout",
     "output_type": "stream",
     "text": [
      "['https://www.forexfactory.com/forum/137-interactive-trading?sort=lastpost&order=desc&page=5', 'https://www.forexfactory.com/forum/137-interactive-trading?sort=lastpost&order=desc&page=5', 'https://www.forexfactory.com/forum/137-interactive-trading?sort=lastpost&order=desc&page=5', 'https://www.forexfactory.com/forum/137-interactive-trading?sort=lastpost&order=desc&page=5', 'https://www.forexfactory.com/forum/137-interactive-trading?sort=lastpost&order=desc&page=5']\n"
     ]
    }
   ],
   "source": [
    "page_url = f\"https://www.forexfactory.com/forum/137-interactive-trading?sort=lastpost&order=desc&page={page}\"\n",
    "page_url_list = [page_url for page in range(1,6)]\n",
    "print(page_url_list)"
   ]
  },
  {
   "cell_type": "code",
   "execution_count": null,
   "metadata": {},
   "outputs": [],
   "source": []
  }
 ],
 "metadata": {
  "kernelspec": {
   "display_name": ".venv",
   "language": "python",
   "name": "python3"
  },
  "language_info": {
   "codemirror_mode": {
    "name": "ipython",
    "version": 3
   },
   "file_extension": ".py",
   "mimetype": "text/x-python",
   "name": "python",
   "nbconvert_exporter": "python",
   "pygments_lexer": "ipython3",
   "version": "3.11.3"
  },
  "orig_nbformat": 4
 },
 "nbformat": 4,
 "nbformat_minor": 2
}
