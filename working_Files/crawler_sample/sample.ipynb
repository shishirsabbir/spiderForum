{
 "cells": [
  {
   "cell_type": "code",
   "execution_count": null,
   "metadata": {},
   "outputs": [],
   "source": [
    "import re\n",
    "import os\n",
    "import csv\n",
    "import json\n",
    "import requests\n",
    "from urllib import parse\n",
    "from bs4 import BeautifulSoup\n",
    "from locals.output_data import exportData\n",
    "from locals.date_scrape import getDate, lastStamp, searchDate\n",
    "from locals.automate import By, Keys, EC, Action, wait_for, genBrowser, driverWait"
   ]
  }
 ],
 "metadata": {
  "language_info": {
   "name": "python"
  },
  "orig_nbformat": 4
 },
 "nbformat": 4,
 "nbformat_minor": 2
}
