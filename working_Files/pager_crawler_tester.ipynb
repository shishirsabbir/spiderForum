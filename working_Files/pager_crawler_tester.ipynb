{
 "cells": [
  {
   "cell_type": "code",
   "execution_count": 1,
   "metadata": {},
   "outputs": [],
   "source": [
    "import re\n",
    "import os\n",
    "import csv\n",
    "import json\n",
    "import requests\n",
    "from urllib import parse\n",
    "from bs4 import BeautifulSoup\n",
    "from locals.output_data import exportData\n",
    "from locals.date_scrape import getDate, lastStamp, searchDate\n",
    "from locals.automate import By, Keys, EC, Action, wait_for, genBrowser, driverWait"
   ]
  },
  {
   "cell_type": "code",
   "execution_count": 2,
   "metadata": {},
   "outputs": [],
   "source": [
    "header_list = [\n",
    "    {'User-Agent': 'Mozilla/5.0 (Macintosh; Intel Mac OS X 10_15_7) AppleWebKit/537.36 (KHTML, like Gecko) Chrome/114.0.0.0'},\n",
    "    {'User-Agent': 'Mozilla/5.0 (Macintosh; Intel Mac OS X 10_15_7) AppleWebKit/537.36 (KHTML, like Gecko) Chrome/114.0.0.0 Safari/537.36'},\n",
    "    {'User-Agent': 'Mozilla/5.0 (Macintosh; Intel Mac OS X 10.15; rv:109.0) Gecko/20100101 Firefox/114.0'},\n",
    "    {'User-Agent': 'Mozilla/5.0 (Macintosh; Intel Mac OS X 10_15_7) AppleWebKit/537.36 (KHTML, like Gecko) Chrome/114.0.0.0 Safari/537.36 OPR/100.0.0.0'},\n",
    "    {\"User-Agent\": \"Mozilla/5.0 (X11; Linux x86_64) AppleWebKit/537.36 (KHTML, like Gecko) Chrome/114.0.0.0 Safari/537.36\"}\n",
    "]"
   ]
  },
  {
   "cell_type": "code",
   "execution_count": null,
   "metadata": {},
   "outputs": [],
   "source": [
    "def get_threads(pages):\n",
    "    session = requests.Session()\n",
    "    thread_url_list = []\n",
    "\n",
    "    for page in pages:\n",
    "        url = f\"https://www.forexfactory.com/forum/137-interactive-trading?sort=lastpost&order=desc&page={page}\"\n",
    "        print(f\"getting thread list from page: {page}\")\n",
    "        \n",
    "        res = session.get(url, headers=header_list[0])\n",
    "\n",
    "        if res.status_code == 200:\n",
    "            soup = BeautifulSoup(res.text, 'lxml')\n",
    "\n",
    "            thread_tags = soup.select('table#threadslist tr.threadlist__row div.threadlist__title-wrapper')\n",
    "\n",
    "            for thread in thread_tags:\n",
    "                thread_name = thread.get_text(strip=True)\n",
    "                thread_url = thread.a['href']\n",
    "\n",
    "                thread_dict = {\n",
    "                    \"thread_name\": thread_name,\n",
    "                    \"thread_url\": thread_url\n",
    "                }\n",
    "\n",
    "                thread_url_list.append(thread_dict)\n",
    "        else:\n",
    "            print(f\"Bad Response: {res.status_code}\")\n",
    "\n",
    "    return thread_url_list"
   ]
  },
  {
   "cell_type": "code",
   "execution_count": null,
   "metadata": {},
   "outputs": [],
   "source": [
    "def main():\n",
    "    pages = get_forum_pages()\n",
    "\n",
    "    thread_url_list = get_threads(pages)\n",
    "\n",
    "    return thread_url_list"
   ]
  },
  {
   "cell_type": "code",
   "execution_count": null,
   "metadata": {},
   "outputs": [],
   "source": [
    "thread_list = main()\n",
    "print(thread_list)"
   ]
  },
  {
   "cell_type": "code",
   "execution_count": null,
   "metadata": {},
   "outputs": [],
   "source": [
    "sample_url = \"https://www.forexfactory.com/forum/137-interactive-trading\""
   ]
  },
  {
   "cell_type": "code",
   "execution_count": null,
   "metadata": {},
   "outputs": [],
   "source": [
    "res = requests.get(sample_url, headers=header_list[0])\n",
    "print(res.status_code)"
   ]
  },
  {
   "cell_type": "code",
   "execution_count": null,
   "metadata": {},
   "outputs": [],
   "source": [
    "soup = BeautifulSoup(res.text, 'lxml')\n",
    "page_num_tag = soup.select_one('div.forumdisplay__footer li.visible-mv a.last')\n",
    "page_num = page_num_tag.string\n",
    "url_path = page_num_tag['href']\n",
    "actual_url = parse.urljoin(base_url, url_path)\n",
    "print(page_num)\n",
    "print(actual_url)"
   ]
  },
  {
   "cell_type": "code",
   "execution_count": null,
   "metadata": {},
   "outputs": [],
   "source": [
    "# https://www.forexfactory.com/forum/137-interactive-trading"
   ]
  },
  {
   "cell_type": "code",
   "execution_count": 3,
   "metadata": {},
   "outputs": [],
   "source": [
    "def get_forum_pages():\n",
    "    url = input(\"Enter Category Url: \")\n",
    "    base_url = \"https://www.forexfactory.com\"\n",
    "\n",
    "    session = requests.Session()\n",
    "\n",
    "    res = session.get(url, headers=header_list[0])\n",
    "\n",
    "    if res.status_code == 200:\n",
    "        soup = BeautifulSoup(res.text, 'lxml')\n",
    "        page_num_tag = soup.select_one('div.forumdisplay__footer li.visible-mv a.last')\n",
    "        page_num = page_num_tag.string\n",
    "        url_path = page_num_tag['href']\n",
    "        actual_url = parse.urljoin(base_url, url_path)\n",
    "\n",
    "        return (page_num, actual_url)\n",
    "        \n",
    "    else:\n",
    "        print(f\"Bad Response of Forum Pages: {res.status_code}\")\n",
    "        return None"
   ]
  },
  {
   "cell_type": "code",
   "execution_count": 9,
   "metadata": {},
   "outputs": [],
   "source": [
    "page_num, thread_page_url = get_forum_pages()"
   ]
  },
  {
   "cell_type": "code",
   "execution_count": 10,
   "metadata": {},
   "outputs": [
    {
     "name": "stdout",
     "output_type": "stream",
     "text": [
      "15 https://www.forexfactory.com/forum/137-interactive-trading?sort=lastpost&order=desc&page=15\n"
     ]
    }
   ],
   "source": [
    "print(page_num, thread_page_url)"
   ]
  },
  {
   "cell_type": "code",
   "execution_count": 14,
   "metadata": {},
   "outputs": [
    {
     "name": "stdout",
     "output_type": "stream",
     "text": [
      "ParseResult(scheme='https', netloc='www.forexfactory.com', path='/forum/137-interactive-trading', params='', query='sort=lastpost&order=desc&page=15', fragment='')\n"
     ]
    },
    {
     "data": {
      "text/plain": [
       "{'scheme': 'https',\n",
       " 'netloc': 'www.forexfactory.com',\n",
       " 'path': '/forum/137-interactive-trading',\n",
       " 'params': '',\n",
       " 'query': 'sort=lastpost&order=desc&page=15',\n",
       " 'fragment': ''}"
      ]
     },
     "execution_count": 14,
     "metadata": {},
     "output_type": "execute_result"
    }
   ],
   "source": [
    "# parse.urlparse(thread_url)._asdict()\n",
    "\n",
    "url_obj = parse.urlparse(thread_page_url)\n",
    "print(url_obj)\n",
    "url_obj._asdict()"
   ]
  },
  {
   "cell_type": "code",
   "execution_count": 21,
   "metadata": {},
   "outputs": [
    {
     "name": "stdout",
     "output_type": "stream",
     "text": [
      "Help on ParseResult in module urllib.parse object:\n",
      "\n",
      "class ParseResult(ParseResult, _NetlocResultMixinStr)\n",
      " |  ParseResult(scheme, netloc, path, params, query, fragment)\n",
      " |  \n",
      " |  Method resolution order:\n",
      " |      ParseResult\n",
      " |      ParseResult\n",
      " |      builtins.tuple\n",
      " |      _NetlocResultMixinStr\n",
      " |      _NetlocResultMixinBase\n",
      " |      _ResultMixinStr\n",
      " |      builtins.object\n",
      " |  \n",
      " |  Methods defined here:\n",
      " |  \n",
      " |  geturl(self)\n",
      " |  \n",
      " |  ----------------------------------------------------------------------\n",
      " |  Data and other attributes defined here:\n",
      " |  \n",
      " |  _encoded_counterpart = <class 'urllib.parse.ParseResultBytes'>\n",
      " |  \n",
      " |  ----------------------------------------------------------------------\n",
      " |  Methods inherited from ParseResult:\n",
      " |  \n",
      " |  __getnewargs__(self)\n",
      " |      Return self as a plain tuple.  Used by copy and pickle.\n",
      " |  \n",
      " |  __repr__(self)\n",
      " |      Return a nicely formatted representation string\n",
      " |  \n",
      " |  _asdict(self)\n",
      " |      Return a new dict which maps field names to their values.\n",
      " |  \n",
      " |  _replace(self, /, **kwds)\n",
      " |      Return a new ParseResult object replacing specified fields with new values\n",
      " |  \n",
      " |  ----------------------------------------------------------------------\n",
      " |  Class methods inherited from ParseResult:\n",
      " |  \n",
      " |  _make(iterable) from builtins.type\n",
      " |      Make a new ParseResult object from a sequence or iterable\n",
      " |  \n",
      " |  ----------------------------------------------------------------------\n",
      " |  Static methods inherited from ParseResult:\n",
      " |  \n",
      " |  __new__(_cls, scheme, netloc, path, params, query, fragment)\n",
      " |      Create new instance of ParseResult(scheme, netloc, path, params, query, fragment)\n",
      " |  \n",
      " |  ----------------------------------------------------------------------\n",
      " |  Data descriptors inherited from ParseResult:\n",
      " |  \n",
      " |  scheme\n",
      " |      Specifies URL scheme for the request.\n",
      " |  \n",
      " |  netloc\n",
      " |      Network location where the request is made to.\n",
      " |  \n",
      " |  path\n",
      " |      The hierarchical path, such as the path to a file to download.\n",
      " |  \n",
      " |  params\n",
      " |      Parameters for last path element used to dereference the URI in order to provide\n",
      " |      access to perform some operation on the resource.\n",
      " |  \n",
      " |  query\n",
      " |      The query component, that contains non-hierarchical data, that along with data\n",
      " |      in path component, identifies a resource in the scope of URI's scheme and\n",
      " |      network location.\n",
      " |  \n",
      " |  fragment\n",
      " |      Fragment identifier, that allows indirect identification of a secondary resource\n",
      " |      by reference to a primary resource and additional identifying information.\n",
      " |  \n",
      " |  ----------------------------------------------------------------------\n",
      " |  Data and other attributes inherited from ParseResult:\n",
      " |  \n",
      " |  __match_args__ = ('scheme', 'netloc', 'path', 'params', 'query', 'frag...\n",
      " |  \n",
      " |  _field_defaults = {}\n",
      " |  \n",
      " |  _fields = ('scheme', 'netloc', 'path', 'params', 'query', 'fragment')\n",
      " |  \n",
      " |  ----------------------------------------------------------------------\n",
      " |  Methods inherited from builtins.tuple:\n",
      " |  \n",
      " |  __add__(self, value, /)\n",
      " |      Return self+value.\n",
      " |  \n",
      " |  __contains__(self, key, /)\n",
      " |      Return key in self.\n",
      " |  \n",
      " |  __eq__(self, value, /)\n",
      " |      Return self==value.\n",
      " |  \n",
      " |  __ge__(self, value, /)\n",
      " |      Return self>=value.\n",
      " |  \n",
      " |  __getattribute__(self, name, /)\n",
      " |      Return getattr(self, name).\n",
      " |  \n",
      " |  __getitem__(self, key, /)\n",
      " |      Return self[key].\n",
      " |  \n",
      " |  __gt__(self, value, /)\n",
      " |      Return self>value.\n",
      " |  \n",
      " |  __hash__(self, /)\n",
      " |      Return hash(self).\n",
      " |  \n",
      " |  __iter__(self, /)\n",
      " |      Implement iter(self).\n",
      " |  \n",
      " |  __le__(self, value, /)\n",
      " |      Return self<=value.\n",
      " |  \n",
      " |  __len__(self, /)\n",
      " |      Return len(self).\n",
      " |  \n",
      " |  __lt__(self, value, /)\n",
      " |      Return self<value.\n",
      " |  \n",
      " |  __mul__(self, value, /)\n",
      " |      Return self*value.\n",
      " |  \n",
      " |  __ne__(self, value, /)\n",
      " |      Return self!=value.\n",
      " |  \n",
      " |  __rmul__(self, value, /)\n",
      " |      Return value*self.\n",
      " |  \n",
      " |  count(self, value, /)\n",
      " |      Return number of occurrences of value.\n",
      " |  \n",
      " |  index(self, value, start=0, stop=9223372036854775807, /)\n",
      " |      Return first index of value.\n",
      " |      \n",
      " |      Raises ValueError if the value is not present.\n",
      " |  \n",
      " |  ----------------------------------------------------------------------\n",
      " |  Class methods inherited from builtins.tuple:\n",
      " |  \n",
      " |  __class_getitem__(...) from builtins.type\n",
      " |      See PEP 585\n",
      " |  \n",
      " |  ----------------------------------------------------------------------\n",
      " |  Readonly properties inherited from _NetlocResultMixinStr:\n",
      " |  \n",
      " |  _hostinfo\n",
      " |  \n",
      " |  _userinfo\n",
      " |  \n",
      " |  ----------------------------------------------------------------------\n",
      " |  Readonly properties inherited from _NetlocResultMixinBase:\n",
      " |  \n",
      " |  hostname\n",
      " |  \n",
      " |  password\n",
      " |  \n",
      " |  port\n",
      " |  \n",
      " |  username\n",
      " |  \n",
      " |  ----------------------------------------------------------------------\n",
      " |  Methods inherited from _ResultMixinStr:\n",
      " |  \n",
      " |  encode(self, encoding='ascii', errors='strict')\n",
      "\n"
     ]
    }
   ],
   "source": [
    "help(parse.urlparse(thread_page_url))"
   ]
  },
  {
   "cell_type": "code",
   "execution_count": 7,
   "metadata": {},
   "outputs": [
    {
     "name": "stdout",
     "output_type": "stream",
     "text": [
      "[1, 2, 3, 4, 5, 6, 7, 8, 9, 10, 11, 12, 13, 14, 15]\n"
     ]
    }
   ],
   "source": [
    "forum_page_num = int(page_num) + 1\n",
    "forum_pages = [page for page in range(1, forum_page_num)]\n",
    "print(forum_pages)"
   ]
  },
  {
   "cell_type": "code",
   "execution_count": 25,
   "metadata": {},
   "outputs": [
    {
     "name": "stdout",
     "output_type": "stream",
     "text": [
      "https://www.forexfactory.com/forum/137-interactive-trading?sort=lastpost&order=desc&page=1\n",
      "https://www.forexfactory.com/forum/137-interactive-trading?sort=lastpost&order=desc&page=2\n",
      "https://www.forexfactory.com/forum/137-interactive-trading?sort=lastpost&order=desc&page=3\n",
      "https://www.forexfactory.com/forum/137-interactive-trading?sort=lastpost&order=desc&page=4\n",
      "https://www.forexfactory.com/forum/137-interactive-trading?sort=lastpost&order=desc&page=5\n",
      "https://www.forexfactory.com/forum/137-interactive-trading?sort=lastpost&order=desc&page=6\n",
      "https://www.forexfactory.com/forum/137-interactive-trading?sort=lastpost&order=desc&page=7\n",
      "https://www.forexfactory.com/forum/137-interactive-trading?sort=lastpost&order=desc&page=8\n",
      "https://www.forexfactory.com/forum/137-interactive-trading?sort=lastpost&order=desc&page=9\n",
      "https://www.forexfactory.com/forum/137-interactive-trading?sort=lastpost&order=desc&page=10\n",
      "https://www.forexfactory.com/forum/137-interactive-trading?sort=lastpost&order=desc&page=11\n",
      "https://www.forexfactory.com/forum/137-interactive-trading?sort=lastpost&order=desc&page=12\n",
      "https://www.forexfactory.com/forum/137-interactive-trading?sort=lastpost&order=desc&page=13\n",
      "https://www.forexfactory.com/forum/137-interactive-trading?sort=lastpost&order=desc&page=14\n",
      "https://www.forexfactory.com/forum/137-interactive-trading?sort=lastpost&order=desc&page=15\n"
     ]
    }
   ],
   "source": [
    "for page in forum_pages:\n",
    "    url_obj = parse.urlparse(thread_page_url)\n",
    "    url_dict = url_obj._asdict()\n",
    "    bas_url = base_url = \"https://www.forexfactory.com\"\n",
    "    path = url_dict['path']\n",
    "\n",
    "    new_url = base_url + path + f\"?sort=lastpost&order=desc&page={page}\"\n",
    "    print(new_url)"
   ]
  },
  {
   "cell_type": "code",
   "execution_count": null,
   "metadata": {},
   "outputs": [],
   "source": []
  }
 ],
 "metadata": {
  "kernelspec": {
   "display_name": ".venv",
   "language": "python",
   "name": "python3"
  },
  "language_info": {
   "codemirror_mode": {
    "name": "ipython",
    "version": 3
   },
   "file_extension": ".py",
   "mimetype": "text/x-python",
   "name": "python",
   "nbconvert_exporter": "python",
   "pygments_lexer": "ipython3",
   "version": "3.11.3"
  },
  "orig_nbformat": 4
 },
 "nbformat": 4,
 "nbformat_minor": 2
}
